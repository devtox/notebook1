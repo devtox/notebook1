{
 "cells": [
  {
   "cell_type": "markdown",
   "id": "66c6a789-5679-47eb-8afe-1baa93852d66",
   "metadata": {},
   "source": [
    "# Title of the notebook"
   ]
  },
  {
   "cell_type": "markdown",
   "id": "2ff0c96c-2c54-4f1c-9855-4e18c8be8910",
   "metadata": {},
   "source": [
    "This is the introduction, for exercise 3. "
   ]
  },
  {
   "cell_type": "markdown",
   "id": "94ad2823-b6c0-4abf-baa0-b38286d9e671",
   "metadata": {},
   "source": [
    "## Data Science Languages\n",
    "\n",
    "- Python\n",
    "- R\n",
    "- Julia\n",
    "- SQL\n",
    "- SCALA\n",
    "- MATLAB"
   ]
  },
  {
   "cell_type": "markdown",
   "id": "733b55c8-a0ed-4c37-9c61-50b7a316742b",
   "metadata": {},
   "source": [
    "## Data Science Libraries\n",
    "\n",
    "- Pandas\n",
    "- Numpy\n",
    "- scikit-learn\n",
    "- Matplotlib\n",
    "- Seaborn\n",
    "- Plotly\n",
    "- Tensorflow"
   ]
  },
  {
   "cell_type": "markdown",
   "id": "a088acad-822a-4e8f-9d3e-3fc868daae9d",
   "metadata": {},
   "source": [
    "## Tools\n",
    "\n",
    "- R Studio\n",
    "- Python\n",
    "- SQL\n",
    "- Jupyter Notebooks / Labs\n",
    "- Anaconda\n",
    "- git"
   ]
  },
  {
   "cell_type": "markdown",
   "id": "29cf8baf-de91-45bd-ba64-23a746e24eea",
   "metadata": {},
   "source": [
    "## Introduction to Arithmetic expressions examples\n",
    "\n",
    "In this section we describe arithmetic expression examples..\n"
   ]
  },
  {
   "cell_type": "markdown",
   "id": "527a04ef-918e-4b4e-9a9d-5c65d7ec08e9",
   "metadata": {},
   "source": [
    "## Introduction to Arithmetic expressions examples\n",
    "\n",
    "In this section we describe arithmetic expression examples..\n"
   ]
  },
  {
   "cell_type": "markdown",
   "id": "7b042610-46ca-446d-892d-1e4ea189ed5e",
   "metadata": {},
   "source": [
    "## Introduction to Arithmetic expressions examples\n",
    "\n",
    "In this section we describe arithmetic expression examples..\n"
   ]
  },
  {
   "cell_type": "code",
   "execution_count": null,
   "id": "ee3e5526-7910-4f6f-b414-a1c7e4c59e5f",
   "metadata": {},
   "outputs": [],
   "source": [
    "# Code cell to multilpy and add two numbers\n",
    "\n",
    "x = 3\n",
    "y = 5\n",
    "\n",
    "z = x * y\n",
    "q = x + y"
   ]
  },
  {
   "cell_type": "code",
   "execution_count": null,
   "id": "6f0dcfec-47f1-48a6-8974-296735b34ad0",
   "metadata": {},
   "outputs": [],
   "source": [
    "# Convert minutes to hours\n",
    "minutes = 5\n",
    "seconds = 60\n",
    "hours = minutes * 60\n"
   ]
  },
  {
   "cell_type": "markdown",
   "id": "0e2fd828-08ab-4b5f-9e8d-fd4baddca821",
   "metadata": {},
   "source": [
    "## Objectives\n",
    "\n",
    "The objectives are:\n",
    "\n",
    "* Python\n",
    "* R\n",
    "* Data Science"
   ]
  },
  {
   "cell_type": "markdown",
   "id": "631e67b8-19a9-4eb6-90c0-6f1c41a548f0",
   "metadata": {},
   "source": [
    "## Authors name\n",
    "\n",
    "Frank"
   ]
  },
  {
   "cell_type": "markdown",
   "id": "83fa0d6b-df38-4ab6-a795-ac5b2a98523f",
   "metadata": {},
   "source": [
    "## Share notebook on Github\n",
    "\n",
    "https://github.com/devtox/notebook1"
   ]
  },
  {
   "cell_type": "code",
   "execution_count": null,
   "id": "3a63689b-1916-4837-bd95-dee1cf5030ff",
   "metadata": {},
   "outputs": [],
   "source": []
  }
 ],
 "metadata": {
  "kernelspec": {
   "display_name": "Python 3 (ipykernel)",
   "language": "python",
   "name": "python3"
  },
  "language_info": {
   "name": ""
  }
 },
 "nbformat": 4,
 "nbformat_minor": 5
}
